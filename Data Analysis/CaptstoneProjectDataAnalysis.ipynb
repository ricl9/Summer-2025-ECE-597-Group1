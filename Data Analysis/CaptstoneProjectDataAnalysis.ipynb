{
  "nbformat": 4,
  "nbformat_minor": 0,
  "metadata": {
    "colab": {
      "provenance": []
    },
    "kernelspec": {
      "name": "python3",
      "display_name": "Python 3"
    },
    "language_info": {
      "name": "python"
    }
  },
  "cells": [
    {
      "cell_type": "markdown",
      "source": [
        "# Phishing Email Detection Pipeline\n",
        "A workflow: from data loading and cleaning to TF-IDF, Bag-of-Words.\n"
      ],
      "metadata": {
        "id": "25asB99qfjPs"
      }
    },
    {
      "cell_type": "markdown",
      "source": [
        "1. Imports & Setup"
      ],
      "metadata": {
        "id": "APJsTZVefy3w"
      }
    },
    {
      "cell_type": "code",
      "execution_count": 1,
      "metadata": {
        "id": "V50iyPppfNAV"
      },
      "outputs": [],
      "source": [
        "import pandas as pd\n",
        "import numpy as np\n",
        "import os\n",
        "import re\n",
        "import matplotlib.pyplot as plt\n",
        "import seaborn as sns\n",
        "from sklearn.model_selection import train_test_split, GridSearchCV\n",
        "from sklearn.feature_extraction.text import TfidfVectorizer, CountVectorizer\n",
        "from sklearn.naive_bayes import MultinomialNB\n",
        "from sklearn.linear_model import LogisticRegression\n",
        "from sklearn.pipeline import Pipeline\n",
        "from sklearn.metrics import accuracy_score, classification_report, confusion_matrix, roc_curve, auc\n",
        "from sklearn.decomposition import PCA\n",
        "from sentence_transformers import SentenceTransformer\n",
        "from tqdm import tqdm\n",
        "import ast\n",
        "\n",
        "tqdm.pandas()\n"
      ]
    },
    {
      "cell_type": "markdown",
      "source": [
        "2. Load Dataset"
      ],
      "metadata": {
        "id": "y0Px7EgNf4Vr"
      }
    },
    {
      "cell_type": "code",
      "source": [
        "# Step 1: Load CSV with proper encoding (try utf-8 first, fallback to ISO-8859-1)\n",
        "\n",
        "phishing_df = pd.read_csv('/content/CaptstoneProjectData_2025.csv')\n",
        "\n",
        "\n",
        "# Step 2: Drop extra unnamed columns if present\n",
        "phishing_df = phishing_df.loc[:, ['Subject', 'Body']]\n",
        "\n",
        "# Step 3: Combine subject + body into one column for NLP\n",
        "phishing_df['text_combined'] = phishing_df['Subject'].fillna('') + ' ' + phishing_df['Body'].fillna('')\n",
        "\n",
        "# Step 4: TEMPORARY: Assign dummy labels (replace with real labels if available)\n",
        "phishing_df['label'] = [0] * (len(phishing_df)//2) + [1] * (len(phishing_df) - len(phishing_df)//2)\n",
        "\n",
        "# Step 5: Explore structure\n",
        "print(\"Loaded phishing dataset with shape:\", phishing_df.shape)\n",
        "print(\"Columns:\", phishing_df.columns.tolist())\n",
        "print(phishing_df.head())\n",
        "print(phishing_df['label'].value_counts())\n",
        "print(phishing_df.isnull().sum())\n",
        "\n",
        "# Step 6: Visualizations\n",
        "import seaborn as sns\n",
        "import matplotlib.pyplot as plt\n",
        "\n",
        "sns.countplot(x='label', data=phishing_df)\n",
        "plt.title(\"Label Distribution\")\n",
        "plt.show()\n",
        "\n",
        "phishing_df['text_length'] = phishing_df['text_combined'].apply(len)\n",
        "sns.histplot(phishing_df['text_length'], bins=50, kde=True)\n",
        "plt.title(\"Email Length Distribution\")\n",
        "plt.show()\n",
        "\n"
      ],
      "metadata": {
        "colab": {
          "base_uri": "https://localhost:8080/",
          "height": 1000
        },
        "id": "N5KFKNgIf_fY",
        "outputId": "f9177ede-3f8d-4775-8ef5-f127f0e7825c"
      },
      "execution_count": 2,
      "outputs": [
        {
          "output_type": "stream",
          "name": "stdout",
          "text": [
            "Loaded phishing dataset with shape: (2576, 4)\n",
            "Columns: ['Subject', 'Body', 'text_combined', 'label']\n",
            "                                             Subject  \\\n",
            "0  ®Review your shipment details / Shipment Notif...   \n",
            "1                            Υоur ассоunt іѕ оn hоld   \n",
            "2  Completed: Invoice # KZ89TYS2564 from-Bestbuy....   \n",
            "3                             UVic IMPORTANT NOTICE!   \n",
            "4          You have (6) Suspended incoming messages    \n",
            "\n",
            "                                                Body  \\\n",
            "0  Notice: This message was sent from outside the...   \n",
            "1  \\r\\nVotre réponse a bien été prise en compte.\\...   \n",
            "2  Notice: This message was sent from outside the...   \n",
            "3  Your UVIC account has been filed under the lis...   \n",
            "4  \\r\\n\\r\\nMessage generated from  uvic.ca source...   \n",
            "\n",
            "                                       text_combined  label  \n",
            "0  ®Review your shipment details / Shipment Notif...      0  \n",
            "1  Υоur ассоunt іѕ оn hоld \\r\\nVotre réponse a bi...      0  \n",
            "2  Completed: Invoice # KZ89TYS2564 from-Bestbuy....      0  \n",
            "3  UVic IMPORTANT NOTICE! Your UVIC account has b...      0  \n",
            "4  You have (6) Suspended incoming messages  \\r\\n...      0  \n",
            "label\n",
            "0    1288\n",
            "1    1288\n",
            "Name: count, dtype: int64\n",
            "Subject          109\n",
            "Body               5\n",
            "text_combined      0\n",
            "label              0\n",
            "dtype: int64\n"
          ]
        },
        {
          "output_type": "display_data",
          "data": {
            "text/plain": [
              "<Figure size 640x480 with 1 Axes>"
            ],
            "image/png": "[encoded data removed]"
          },
          "metadata": {}
        },
        {
          "output_type": "display_data",
          "data": {
            "text/plain": [
              "<Figure size 640x480 with 1 Axes>"
            ],
            "image/png": "[encoded data removed]"
          },
          "metadata": {}
        }
      ]
    },
    {
      "cell_type": "markdown",
      "source": [
        "3. Preprocessing Function"
      ],
      "metadata": {
        "id": "UjmX_v40gLnp"
      }
    },
    {
      "cell_type": "code",
      "source": [
        "def drop_dates(text):\n",
        "    text = text.lower()\n",
        "    text = re.sub(r'http[s]?://\\\\S+', ' ', text)\n",
        "    text = re.sub(r'\\\\b[A-Za-z0-9._%+-]+@[A-Za-z0-9.-]+\\\\.[A-Z|a-z]{2,}\\\\b', ' ', text)\n",
        "    patterns = [\n",
        "        r'\\\\b(?:jan|feb|mar|apr|may|jun|jul|aug|sep|oct|nov|dec)[a-z]*\\\\s+\\\\d{1,4}\\\\b',\n",
        "        r'\\\\b\\\\d{1,2}[\\\\/\\\\-]\\\\d{1,2}[\\\\/\\\\-]\\\\d{2,4}\\\\b',\n",
        "        r'\\\\b\\\\d{4}\\\\-[01]\\\\d\\\\-[0-3]\\\\d\\\\b',\n",
        "        r'\\\\b\\\\d{1,4}\\\\b'\n",
        "    ]\n",
        "    for p in patterns:\n",
        "        text = re.sub(p, ' ', text, flags=re.IGNORECASE)\n",
        "    return text\n"
      ],
      "metadata": {
        "id": "IwlVjFFSgOUX"
      },
      "execution_count": 3,
      "outputs": []
    },
    {
      "cell_type": "markdown",
      "source": [
        "4. Train/Test Split and Cleaning"
      ],
      "metadata": {
        "id": "juib-zjHgTrX"
      }
    },
    {
      "cell_type": "code",
      "source": [
        "X_train, X_test, y_train, y_test = train_test_split(\n",
        "    phishing_df['text_combined'], phishing_df['label'],\n",
        "    test_size=0.3, random_state=42\n",
        ")\n",
        "\n",
        "X_train_clean = X_train.apply(drop_dates)\n",
        "X_test_clean = X_test.apply(drop_dates)\n"
      ],
      "metadata": {
        "id": "hVlZBYQLgX5N"
      },
      "execution_count": 4,
      "outputs": []
    },
    {
      "cell_type": "markdown",
      "source": [
        "5. Show Cleaning Samples"
      ],
      "metadata": {
        "id": "1Im3UBqfga2R"
      }
    },
    {
      "cell_type": "code",
      "source": [
        "print(\"\\n--- Sample Cleaning Output ---\")\n",
        "for i in range(3):\n",
        "    original = X_train.iloc[i]\n",
        "    cleaned = X_train_clean.iloc[i]\n",
        "    print(f\"\\n--- Sample {i+1} ---\")\n",
        "    print(\"Original:\", original[:300])\n",
        "    print(\"Cleaned: \", cleaned[:300])\n"
      ],
      "metadata": {
        "colab": {
          "base_uri": "https://localhost:8080/"
        },
        "id": "_XEmYcM4ghd0",
        "outputId": "d262fe66-ad39-45b9-993a-2d783555cbc6"
      },
      "execution_count": 5,
      "outputs": [
        {
          "output_type": "stream",
          "name": "stdout",
          "text": [
            "\n",
            "--- Sample Cleaning Output ---\n",
            "\n",
            "--- Sample 1 ---\n",
            "Original: ITS Help-desk Hello user,\r\n",
            "\r\n",
            "This is the last and final notice or our administrator will disable your access to your email.\r\n",
            "\r\n",
            "Please click here to University of Victoria<https://www.cognitoforms.com/Owanoffp/universityofvictoria> your account security by completing the required details to avoid the\n",
            "Cleaned:  its help-desk hello user,\r\n",
            "\r\n",
            "this is the last and final notice or our administrator will disable your access to your email.\r\n",
            "\r\n",
            "please click here to university of victoria<https://www.cognitoforms.com/owanoffp/universityofvictoria> your account security by completing the required details to avoid the\n",
            "\n",
            "--- Sample 2 ---\n",
            "Original: Re:CHRISTMAS LOAN OFFER 3% ONLY PER MONTH --\r\n",
            "Contact us for Christmas loan or any kind of loan with your full\r\n",
            "details at: 3% per month. Whats-app Number: +1-434-217-1446\r\n",
            "\r\n",
            "Brent Paul\r\n",
            "\n",
            "Cleaned:  re:christmas loan offer 3% only per month --\r\n",
            "contact us for christmas loan or any kind of loan with your full\r\n",
            "details at: 3% per month. whats-app number: +1-434-217-1446\r\n",
            "\r\n",
            "brent paul\r\n",
            "\n",
            "\n",
            "--- Sample 3 ---\n",
            "Original: Your suspension notification. Use this area to offer a short preview of your email's content.\r\n",
            "View this email in your browser\r\n",
            "\r\n",
            "\r\n",
            "Netflix\r\n",
            "\r\n",
            "\r\n",
            "Your suspension notification.\r\n",
            "\r\n",
            "Hi,\r\n",
            "We could not authorize your payment for the next billing cycle of your subscription therefore we've suspended your me\n",
            "Cleaned:  your suspension notification. use this area to offer a short preview of your email's content.\r\n",
            "view this email in your browser\r\n",
            "\r\n",
            "\r\n",
            "netflix\r\n",
            "\r\n",
            "\r\n",
            "your suspension notification.\r\n",
            "\r\n",
            "hi,\r\n",
            "we could not authorize your payment for the next billing cycle of your subscription therefore we've suspended your me\n"
          ]
        }
      ]
    },
    {
      "cell_type": "markdown",
      "source": [
        "6. TF-IDF + Naive Bayes"
      ],
      "metadata": {
        "id": "bzD1lbBfglI5"
      }
    },
    {
      "cell_type": "code",
      "source": [
        "tfidf_pipeline = Pipeline([\n",
        "    ('tfidf', TfidfVectorizer()),\n",
        "    ('nb', MultinomialNB())\n",
        "])\n",
        "\n",
        "param_grid_tfidf = {\n",
        "    'tfidf__max_features': [1000],\n",
        "    'tfidf__ngram_range': [(1, 2)],\n",
        "    'tfidf__min_df': [5],\n",
        "    'tfidf__max_df': [0.9],\n",
        "    'nb__alpha': [1.0]\n",
        "}\n",
        "\n",
        "gs_tfidf = GridSearchCV(tfidf_pipeline, param_grid_tfidf, cv=5, scoring='accuracy', n_jobs=-1)\n",
        "gs_tfidf.fit(X_train_clean, y_train)\n",
        "\n",
        "y_pred_tfidf = gs_tfidf.predict(X_test_clean)\n",
        "y_prob_tfidf = gs_tfidf.predict_proba(X_test_clean)[:, 1]\n",
        "acc_tfidf = accuracy_score(y_test, y_pred_tfidf)\n"
      ],
      "metadata": {
        "id": "Uhg9mSb3gr6u"
      },
      "execution_count": 6,
      "outputs": []
    },
    {
      "cell_type": "markdown",
      "source": [
        "7. BoW + Naive Bayes"
      ],
      "metadata": {
        "id": "BYaZlDTogyJu"
      }
    },
    {
      "cell_type": "code",
      "source": [
        "bow_pipeline = Pipeline([\n",
        "    ('vectorizer', CountVectorizer()),\n",
        "    ('classifier', MultinomialNB())\n",
        "])\n",
        "\n",
        "param_grid_bow = {\n",
        "    'vectorizer__max_features': [5000],\n",
        "    'vectorizer__ngram_range': [(1, 2)],\n",
        "    'vectorizer__min_df': [5],\n",
        "    'vectorizer__max_df': [0.9],\n",
        "    'classifier__alpha': [1.0]\n",
        "}\n",
        "\n",
        "gs_bow = GridSearchCV(bow_pipeline, param_grid_bow, cv=5, scoring='accuracy', n_jobs=-1)\n",
        "gs_bow.fit(X_train_clean, y_train)\n",
        "\n",
        "y_pred_bow = gs_bow.predict(X_test_clean)\n",
        "y_prob_bow = gs_bow.predict_proba(X_test_clean)[:, 1]\n",
        "acc_bow = accuracy_score(y_test, y_pred_bow)\n"
      ],
      "metadata": {
        "id": "LdX--YKQg8CK"
      },
      "execution_count": 7,
      "outputs": []
    },
    {
      "cell_type": "markdown",
      "source": [
        "8. Summary + Confusion Matrix"
      ],
      "metadata": {
        "id": "ajlheklfhjab"
      }
    },
    {
      "cell_type": "code",
      "source": [
        "from sklearn.metrics import confusion_matrix, accuracy_score\n",
        "import seaborn as sns\n",
        "import matplotlib.pyplot as plt\n",
        "\n",
        "# Print accuracy summary\n",
        "print(\"\\nModel Performance Comparison:\")\n",
        "print(f\"TF-IDF + Naive Bayes Accuracy: {acc_tfidf:.4f}\")\n",
        "print(f\"BoW + Naive Bayes Accuracy: {acc_bow:.4f}\")\n",
        "\n",
        "# Plot confusion matrix for one of them (e.g., BoW)\n",
        "cm = confusion_matrix(y_test, y_pred_bow)\n",
        "sns.heatmap(cm, annot=True, fmt='d', cmap='Blues',\n",
        "            xticklabels=['Not Phishing', 'Phishing'],\n",
        "            yticklabels=['Not Phishing', 'Phishing'])\n",
        "plt.title(\"Confusion Matrix - BoW + Naive Bayes\")\n",
        "plt.xlabel(\"Predicted\")\n",
        "plt.ylabel(\"Actual\")\n",
        "plt.show()\n",
        "\n"
      ],
      "metadata": {
        "colab": {
          "base_uri": "https://localhost:8080/",
          "height": 543
        },
        "id": "g_sjw0VchmXP",
        "outputId": "45f3907d-adfc-46d4-b107-92e510b0cd5c"
      },
      "execution_count": 9,
      "outputs": [
        {
          "output_type": "stream",
          "name": "stdout",
          "text": [
            "\n",
            "Model Performance Comparison:\n",
            "TF-IDF + Naive Bayes Accuracy: 0.7063\n",
            "BoW + Naive Bayes Accuracy: 0.7374\n"
          ]
        },
        {
          "output_type": "display_data",
          "data": {
            "text/plain": [
              "<Figure size 640x480 with 2 Axes>"
            ],
            "image/png": "[encoded data removed]"
          },
          "metadata": {}
        }
      ]
    },
    {
      "cell_type": "markdown",
      "source": [
        "**Discussion:**\n",
        "\n",
        "False Positive (FP = 130) → flagged legitimate email as phishing.\n",
        "\n",
        "False Negative (FN = 73) → missed actual phishing emails.\n",
        "\n",
        "This is especially dangerous.\n",
        "\n",
        "**Why performance is low:**\n",
        "\n",
        "Bag of Words / TF-IDF are weak: They don’t understand language, only word frequency.\n",
        "\n",
        "Naive Bayes is simple: Assumes word independence; doesn’t model context.\n",
        "\n",
        "No semantic features: models not leveraging context/meaning like BERT embeddings.\n",
        "\n",
        "No optimization: No hyperparameter tuning, balancing, or feature engineering.\n",
        "\n",
        "**Next Step:**\n",
        "\n",
        "Use BERT Embeddings (with Logistic Regression or XGBoost)\n",
        "\n",
        "Add Class Weighting or SMOTE\n",
        "\n"
      ],
      "metadata": {
        "id": "6zadO5HfJ-nI"
      }
    }
  ]
}