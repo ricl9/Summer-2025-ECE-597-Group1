{
 "cells": [
  {
   "cell_type": "code",
   "execution_count": 1,
   "metadata": {},
   "outputs": [],
   "source": [
    "import pandas as pd\n",
    "import numpy as np\n",
    "import seaborn as sns\n",
    "import matplotlib.pyplot as plt\n",
    "from sklearn.model_selection import train_test_split\n",
    "from sklearn.feature_extraction.text import TfidfVectorizer"
   ]
  },
  {
   "cell_type": "code",
   "execution_count": 2,
   "metadata": {},
   "outputs": [
    {
     "name": "stderr",
     "output_type": "stream",
     "text": [
      "/home/dustinvan/WORK/Summer-2025-ECE-597-Group1/.venv/lib/python3.12/site-packages/tqdm/auto.py:21: TqdmWarning: IProgress not found. Please update jupyter and ipywidgets. See https://ipywidgets.readthedocs.io/en/stable/user_install.html\n",
      "  from .autonotebook import tqdm as notebook_tqdm\n"
     ]
    },
    {
     "name": "stdout",
     "output_type": "stream",
     "text": [
      "Dataset downloaded to: /home/dustinvan/.cache/kagglehub/datasets/naserabdullahalam/phishing-email-dataset/versions/1\n",
      "Data loaded successfully.\n",
      "Dataset shape before cleaning: (164972, 2)\n",
      "Dataset shape after cleaning: (164552, 2)\n"
     ]
    }
   ],
   "source": [
    "import kagglehub\n",
    "path = kagglehub.dataset_download(\"naserabdullahalam/phishing-email-dataset\")\n",
    "print(f\"Dataset downloaded to: {path}\")\n",
    "\n",
    "# Load the dataset and combine them\n",
    "df1 = pd.read_csv(path + \"/CEAS_08.csv\")\n",
    "df2 = pd.read_csv(path + \"/Nazario.csv\")\n",
    "df3 = pd.read_csv(path + \"/Nigerian_Fraud.csv\")\n",
    "df4 = pd.read_csv(path + \"/SpamAssasin.csv\")\n",
    "df5 = pd.read_csv(path + \"/Enron.csv\")\n",
    "df6 = pd.read_csv(path + \"/Ling.csv\")\n",
    "df7 = pd.read_csv(path + \"/phishing_email.csv\")\n",
    "print(\"Data loaded successfully.\")\n",
    "\n",
    "# Reformat the datasets to have consistent columns and combine them\n",
    "df_group1 = pd.concat([df1, df2, df3, df4], ignore_index=True)\n",
    "df_group1['text'] = df_group1['subject'].fillna('') + ' ' + df_group1['body'].fillna('')\n",
    "df_group1 = df_group1[['text', 'label']]\n",
    "# Display the first few rows of the combined DataFrame\n",
    "\n",
    "\n",
    "\n",
    "# Rename columns for consistency\n",
    "for df_temp in [df5, df6]:\n",
    "    df_temp['text'] = df_temp['subject'].fillna('') + ' ' + df_temp['body'].fillna('')\n",
    "df5 = df5[['text', 'label']]\n",
    "df6 = df6[['text', 'label']]\n",
    "\n",
    "df7.rename(columns={'text_combined': 'text'}, inplace=True)\n",
    "\n",
    "df = pd.concat([df_group1, df5, df6, df7], ignore_index=True)\n",
    "df.head()\n",
    "print(f\"Dataset shape before cleaning: {df.shape}\")\n",
    "\n",
    "\n",
    "# remove rows with missing values\n",
    "df.dropna(inplace=True)\n",
    "\n",
    "# remove duplicate rows\n",
    "df.drop_duplicates(inplace=True)\n",
    "\n",
    "# reset index after dropping rows\n",
    "df.reset_index(drop=True, inplace=True)\n",
    "\n",
    "print(f\"Dataset shape after cleaning: {df.shape}\")\n",
    "\n",
    "\n"
   ]
  },
  {
   "cell_type": "code",
   "execution_count": 3,
   "metadata": {},
   "outputs": [
    {
     "name": "stdout",
     "output_type": "stream",
     "text": [
      "URL count feature added. Sample values:\n",
      "                                                text  url_count\n",
      "0  Never agree to be a loser Buck up, your troubl...          1\n",
      "1  Befriend Jenna Jameson \\nUpgrade your sex and ...          1\n",
      "2  CNN.com Daily Top 10 >+=+=+=+=+=+=+=+=+=+=+=+=...         24\n",
      "3  Re: svn commit: r619753 - in /spamassassin/tru...        657\n",
      "4  SpecialPricesPharmMoreinfo \\nWelcomeFastShippi...          1\n",
      "\n",
      "URL count statistics:\n",
      "count    164552.000000\n",
      "mean          2.294606\n",
      "std          29.901052\n",
      "min           0.000000\n",
      "25%           0.000000\n",
      "50%           0.000000\n",
      "75%           1.000000\n",
      "max        9198.000000\n",
      "Name: url_count, dtype: float64\n",
      "Email length feature added. Sample values:\n",
      "                                                text  email_length\n",
      "0  Never agree to be a loser Buck up, your troubl...           299\n",
      "1  Befriend Jenna Jameson \\nUpgrade your sex and ...           105\n",
      "2  CNN.com Daily Top 10 >+=+=+=+=+=+=+=+=+=+=+=+=...          3939\n",
      "3  Re: svn commit: r619753 - in /spamassassin/tru...         24569\n",
      "4  SpecialPricesPharmMoreinfo \\nWelcomeFastShippi...           202\n",
      "\n",
      "Email length statistics:\n",
      "count    1.645520e+05\n",
      "mean     1.544777e+03\n",
      "std      1.625589e+04\n",
      "min      1.000000e+00\n",
      "25%      2.980000e+02\n",
      "50%      6.550000e+02\n",
      "75%      1.616000e+03\n",
      "max      4.599694e+06\n",
      "Name: email_length, dtype: float64\n"
     ]
    }
   ],
   "source": [
    "import re\n",
    "\n",
    "def count_urls(text):\n",
    "    \"\"\"Count the number of URLs in the text\"\"\"\n",
    "    url_pattern = r'http\\S+|www\\S+|https\\S+|ftp\\S+|\\b\\w+\\.\\w+\\.\\w+\\S*'\n",
    "    urls = re.findall(url_pattern, text, flags=re.IGNORECASE)\n",
    "    return len(urls)\n",
    "\n",
    "# Add URL count feature to the dataset\n",
    "df['url_count'] = df['text'].apply(count_urls)\n",
    "\n",
    "print(f\"URL count feature added. Sample values:\")\n",
    "print(df[['text', 'url_count']].head())\n",
    "print(f\"\\nURL count statistics:\")\n",
    "print(df['url_count'].describe())\n",
    "\n",
    "# Add email length feature to the dataset\n",
    "df['email_length'] = df['text'].apply(len)\n",
    "\n",
    "print(f\"Email length feature added. Sample values:\")\n",
    "print(df[['text', 'email_length']].head())\n",
    "print(f\"\\nEmail length statistics:\")\n",
    "print(df['email_length'].describe())\n",
    "\n"
   ]
  },
  {
   "cell_type": "code",
   "execution_count": 4,
   "metadata": {},
   "outputs": [
    {
     "name": "stdout",
     "output_type": "stream",
     "text": [
      "Text preprocessing completed.\n"
     ]
    }
   ],
   "source": [
    "\n",
    "import re\n",
    "from sklearn.feature_extraction.text import ENGLISH_STOP_WORDS  \n",
    "\n",
    "def preprocess_text(text):\n",
    "    # Convert to lowercase\n",
    "    text = text.lower()\n",
    "    \n",
    "    # Remove HTML tags\n",
    "    text = re.sub(r'<.*?>', '', text)\n",
    "    \n",
    "    # Remove URLs\n",
    "    # text = re.sub(r'http\\S+|www\\S+|https\\S+', '', text, flags=re.MULTILINE)\n",
    "    \n",
    "    # Remove special characters and numbers\n",
    "    text = re.sub(r'[^a-z\\s]', '', text)\n",
    "    \n",
    "    # Remove extra whitespace\n",
    "    text = re.sub(r'\\s+', ' ', text).strip()\n",
    "    \n",
    "    # Remove stop words\n",
    "    text = ' '.join([word for word in text.split() if word not in ENGLISH_STOP_WORDS])\n",
    "    \n",
    "    return text\n",
    "\n",
    "df['text'] = df['text'].apply(preprocess_text)\n",
    "print(\"Text preprocessing completed.\")"
   ]
  },
  {
   "cell_type": "code",
   "execution_count": null,
   "metadata": {},
   "outputs": [
    {
     "name": "stdout",
     "output_type": "stream",
     "text": [
      "Creating TF-IDF features...\n",
      "Combining TF-IDF features with URL count and email length...\n",
      "Training logistic regression model...\n"
     ]
    }
   ],
   "source": [
    "from sklearn.feature_extraction.text import TfidfVectorizer\n",
    "from sklearn.linear_model import LogisticRegression\n",
    "from sklearn.model_selection import train_test_split\n",
    "from sklearn.metrics import accuracy_score, classification_report, confusion_matrix\n",
    "import numpy as np\n",
    "from scipy.sparse import hstack\n",
    "\n",
    "# Create TF-IDF features with 5000 features\n",
    "print(\"Creating TF-IDF features...\")\n",
    "tfidf_vectorizer = TfidfVectorizer(max_features=5000)\n",
    "tfidf_features = tfidf_vectorizer.fit_transform(df['text'])\n",
    "\n",
    "# Get URL count features and reshape for concatenation\n",
    "url_features = df['url_count'].values.reshape(-1, 1)\n",
    "\n",
    "# Get email length features and reshape for concatenation\n",
    "email_length_features = df['email_length'].values.reshape(-1, 1)\n",
    "\n"
   ]
  },
  {
   "cell_type": "code",
   "execution_count": 33,
   "metadata": {},
   "outputs": [
    {
     "name": "stdout",
     "output_type": "stream",
     "text": [
      "Combining TF-IDF features with URL count and email length...\n",
      "(164552, 5001)\n",
      "Training logistic regression model...\n"
     ]
    }
   ],
   "source": [
    "\n",
    "# Combine TF-IDF features with URL count and email length\n",
    "print(\"Combining TF-IDF features with URL count and email length...\")\n",
    "\n",
    "\n",
    "# Scale the email length features to match TF-IDF scale\n",
    "from sklearn.preprocessing import StandardScaler\n",
    "scaler = StandardScaler()\n",
    "url_features_scale = scaler.fit_transform(url_features)\n",
    "\n",
    "# Combine TF-IDF features with URL count and scaled email length\n",
    "combined_features = hstack([tfidf_features, url_features_scale])\n",
    "\n",
    "print(combined_features.shape)\n",
    "# Split the data\n",
    "X_train, X_test, y_train, y_test = train_test_split(\n",
    "    combined_features, df['label'], test_size=0.2, random_state=42, stratify=df['label']\n",
    ")\n",
    "\n",
    "# Train logistic regression model\n",
    "print(\"Training logistic regression model...\")\n",
    "lr_model = LogisticRegression(random_state=42, max_iter=1000, C=100, penalty='l2', solver='liblinear')\n",
    "lr_model.fit(X_train, y_train)\n",
    "\n",
    "# Make predictions\n",
    "y_pred = lr_model.predict(X_test)"
   ]
  },
  {
   "cell_type": "code",
   "execution_count": 34,
   "metadata": {},
   "outputs": [
    {
     "name": "stdout",
     "output_type": "stream",
     "text": [
      "\n",
      "Logistic Regression with TF-IDF + URL Count Results:\n",
      "Accuracy: 0.9929\n",
      "\n",
      "Classification Report:\n",
      "              precision    recall  f1-score   support\n",
      "\n",
      "           0     0.9934    0.9917    0.9925     15765\n",
      "           1     0.9924    0.9939    0.9932     17146\n",
      "\n",
      "    accuracy                         0.9929     32911\n",
      "   macro avg     0.9929    0.9928    0.9928     32911\n",
      "weighted avg     0.9929    0.9929    0.9929     32911\n",
      "\n",
      "\n",
      "Confusion Matrix:\n",
      "[[15634   131]\n",
      " [  104 17042]]\n",
      "\n",
      "Top 10 Most Important Features:\n",
      "1. enron: -61.7809\n",
      "2. wrote: -39.1374\n",
      "3. uai: -35.3378\n",
      "4. josemonkeyorg: 33.7427\n",
      "5. opensuse: -31.4241\n",
      "6. ierant: -29.5368\n",
      "7. vince: -28.0776\n",
      "8. investment: 26.9534\n",
      "9. louise: -24.9222\n",
      "10. kaminski: -23.0455\n"
     ]
    }
   ],
   "source": [
    "\n",
    "# Evaluate the model\n",
    "accuracy = accuracy_score(y_test, y_pred)\n",
    "print(f\"\\nLogistic Regression with TF-IDF + URL Count Results:\")\n",
    "print(f\"Accuracy: {accuracy:.4f}\")\n",
    "print(f\"\\nClassification Report:\")\n",
    "print(classification_report(y_test, y_pred, digits=4))\n",
    "print(f\"\\nConfusion Matrix:\")\n",
    "print(confusion_matrix(y_test, y_pred))\n",
    "\n",
    "# Feature importance analysis\n",
    "feature_names = list(tfidf_vectorizer.get_feature_names_out()) + ['url_count']\n",
    "coefficients = lr_model.coef_[0]\n",
    "\n",
    "# Get top 10 most important features\n",
    "feature_importance = list(zip(feature_names, coefficients))\n",
    "feature_importance.sort(key=lambda x: abs(x[1]), reverse=True)\n",
    "\n",
    "print(f\"\\nTop 10 Most Important Features:\")\n",
    "for i, (feature, coef) in enumerate(feature_importance[:10]):\n",
    "    print(f\"{i+1}. {feature}: {coef:.4f}\")\n"
   ]
  },
  {
   "cell_type": "code",
   "execution_count": 18,
   "metadata": {},
   "outputs": [
    {
     "name": "stdout",
     "output_type": "stream",
     "text": [
      "\n",
      "AUC Score: 0.9996\n"
     ]
    },
    {
     "data": {
      "image/png": "[encoded data removed]",
      "text/plain": [
       "<Figure size 800x600 with 1 Axes>"
      ]
     },
     "metadata": {},
     "output_type": "display_data"
    }
   ],
   "source": [
    "from sklearn.metrics import roc_auc_score, roc_curve\n",
    "import matplotlib.pyplot as plt\n",
    "\n",
    "# Calculate AUC (Area Under the Curve)\n",
    "y_pred_proba = lr_model.predict_proba(X_test)[:, 1]  # Get probability for positive class\n",
    "auc_score = roc_auc_score(y_test, y_pred_proba)\n",
    "print(f\"\\nAUC Score: {auc_score:.4f}\")\n",
    "\n",
    "# Plot ROC Curve\n",
    "fpr, tpr, thresholds = roc_curve(y_test, y_pred_proba)\n",
    "plt.figure(figsize=(8, 6))\n",
    "plt.plot(fpr, tpr, color='blue', lw=2, label=f'ROC curve (AUC = {auc_score:.4f})')\n",
    "plt.plot([0, 1], [0, 1], color='red', lw=2, linestyle='--', label='Random classifier')\n",
    "plt.xlim([0.0, 1.0])\n",
    "plt.ylim([0.0, 1.05])\n",
    "plt.xlabel('False Positive Rate')\n",
    "plt.ylabel('True Positive Rate')\n",
    "plt.title('ROC Curve - Logistic Regression with TF-IDF + URL Count')\n",
    "plt.legend(loc=\"lower right\")\n",
    "plt.grid(True, alpha=0.3)\n",
    "plt.show()\n"
   ]
  },
  {
   "cell_type": "code",
   "execution_count": null,
   "metadata": {},
   "outputs": [],
   "source": [
    "from sklearn.svm import SVC\n",
    "\n",
    "svc_model_vect = SVC(kernel='linear', probability=True, random_state=42)\n",
    "svc_model_vect.fit(X_train_vect, y_train_vect)\n",
    "# svc_predictions_vect = svc_model_vect.predict(X_test_vect)\n",
    "\n",
    "from sklearn.metrics import roc_auc_score\n",
    "y_pred_proba = svc_model_vect.predict_proba(X_test_vect)[:, 1]\n",
    "auc_score = roc_auc_score(y_test_vect, y_pred_proba)\n",
    "print(f\"\\nAUC Score: {auc_score:.4f}\")"
   ]
  }
 ],
 "metadata": {
  "kernelspec": {
   "display_name": ".venv",
   "language": "python",
   "name": "python3"
  },
  "language_info": {
   "codemirror_mode": {
    "name": "ipython",
    "version": 3
   },
   "file_extension": ".py",
   "mimetype": "text/x-python",
   "name": "python",
   "nbconvert_exporter": "python",
   "pygments_lexer": "ipython3",
   "version": "3.12.7"
  }
 },
 "nbformat": 4,
 "nbformat_minor": 2
}
