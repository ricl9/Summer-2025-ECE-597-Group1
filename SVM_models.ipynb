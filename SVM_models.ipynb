{
  "cells": [
    {
      "cell_type": "markdown",
      "metadata": {
        "id": "hlV2KjYw9L3D"
      },
      "source": [
        "## Import Libraries"
      ]
    },
    {
      "cell_type": "code",
      "execution_count": 1,
      "metadata": {
        "id": "GzCnSmQZWEvx"
      },
      "outputs": [],
      "source": [
        "import pandas as pd\n",
        "import numpy as np\n",
        "import kagglehub\n",
        "from sklearn.feature_extraction.text import ENGLISH_STOP_WORDS\n",
        "from sklearn.model_selection import train_test_split\n",
        "from sklearn.feature_extraction.text import TfidfVectorizer\n",
        "from sklearn.feature_extraction.text import CountVectorizer\n",
        "from sklearn.metrics import classification_report, confusion_matrix\n",
        "from  sklearn.model_selection import cross_val_score\n",
        "from sklearn.svm import SVC"
      ]
    },
    {
      "cell_type": "markdown",
      "metadata": {
        "id": "DblPKawW9VHQ"
      },
      "source": [
        "## Download and Process Dataset"
      ]
    },
    {
      "cell_type": "code",
      "execution_count": 2,
      "metadata": {
        "id": "zsMpNWiFC7Ya"
      },
      "outputs": [],
      "source": [
        "# Download Dataset\n",
        "path = kagglehub.dataset_download(\"naserabdullahalam/phishing-email-dataset\")"
      ]
    },
    {
      "cell_type": "code",
      "execution_count": 3,
      "metadata": {
        "id": "BjuL5LQT9XOZ",
        "colab": {
          "base_uri": "https://localhost:8080/"
        },
        "outputId": "40205536-85da-463f-a228-48baee45b0af"
      },
      "outputs": [
        {
          "output_type": "stream",
          "name": "stdout",
          "text": [
            "Data loaded successfully.\n"
          ]
        }
      ],
      "source": [
        "# Load the dataset\n",
        "df1 = pd.read_csv(path + \"/CEAS_08.csv\")\n",
        "df2 = pd.read_csv(path + \"/Nazario.csv\")\n",
        "df3 = pd.read_csv(path + \"/Nigerian_Fraud.csv\")\n",
        "df4 = pd.read_csv(path + \"/SpamAssasin.csv\")\n",
        "df5 = pd.read_csv(path + \"/Enron.csv\")\n",
        "df6 = pd.read_csv(path + \"/Ling.csv\")\n",
        "df7 = pd.read_csv(path + \"/phishing_email.csv\")\n",
        "print(\"Data loaded successfully.\")"
      ]
    },
    {
      "cell_type": "code",
      "execution_count": 4,
      "metadata": {
        "id": "LGxPBFzgDzKq",
        "colab": {
          "base_uri": "https://localhost:8080/",
          "height": 224
        },
        "outputId": "137ac154-285d-465c-c011-a00c93277711"
      },
      "outputs": [
        {
          "output_type": "stream",
          "name": "stdout",
          "text": [
            "(164552, 2)\n"
          ]
        },
        {
          "output_type": "execute_result",
          "data": {
            "text/plain": [
              "                                                text  label\n",
              "0  Never agree to be a loser Buck up, your troubl...      1\n",
              "1  Befriend Jenna Jameson \\nUpgrade your sex and ...      1\n",
              "2  CNN.com Daily Top 10 >+=+=+=+=+=+=+=+=+=+=+=+=...      1\n",
              "3  Re: svn commit: r619753 - in /spamassassin/tru...      0\n",
              "4  SpecialPricesPharmMoreinfo \\nWelcomeFastShippi...      1"
            ],
            "text/html": [
              "\n",
              "  <div id=\"df-870e9a53-5ca2-4d06-bfde-33d65320db8d\" class=\"colab-df-container\">\n",
              "    <div>\n",
              "<style scoped>\n",
              "    .dataframe tbody tr th:only-of-type {\n",
              "        vertical-align: middle;\n",
              "    }\n",
              "\n",
              "    .dataframe tbody tr th {\n",
              "        vertical-align: top;\n",
              "    }\n",
              "\n",
              "    .dataframe thead th {\n",
              "        text-align: right;\n",
              "    }\n",
              "</style>\n",
              "<table border=\"1\" class=\"dataframe\">\n",
              "  <thead>\n",
              "    <tr style=\"text-align: right;\">\n",
              "      <th></th>\n",
              "      <th>text</th>\n",
              "      <th>label</th>\n",
              "    </tr>\n",
              "  </thead>\n",
              "  <tbody>\n",
              "    <tr>\n",
              "      <th>0</th>\n",
              "      <td>Never agree to be a loser Buck up, your troubl...</td>\n",
              "      <td>1</td>\n",
              "    </tr>\n",
              "    <tr>\n",
              "      <th>1</th>\n",
              "      <td>Befriend Jenna Jameson \\nUpgrade your sex and ...</td>\n",
              "      <td>1</td>\n",
              "    </tr>\n",
              "    <tr>\n",
              "      <th>2</th>\n",
              "      <td>CNN.com Daily Top 10 &gt;+=+=+=+=+=+=+=+=+=+=+=+=...</td>\n",
              "      <td>1</td>\n",
              "    </tr>\n",
              "    <tr>\n",
              "      <th>3</th>\n",
              "      <td>Re: svn commit: r619753 - in /spamassassin/tru...</td>\n",
              "      <td>0</td>\n",
              "    </tr>\n",
              "    <tr>\n",
              "      <th>4</th>\n",
              "      <td>SpecialPricesPharmMoreinfo \\nWelcomeFastShippi...</td>\n",
              "      <td>1</td>\n",
              "    </tr>\n",
              "  </tbody>\n",
              "</table>\n",
              "</div>\n",
              "    <div class=\"colab-df-buttons\">\n",
              "\n",
              "  <div class=\"colab-df-container\">\n",
              "    <button class=\"colab-df-convert\" onclick=\"convertToInteractive('df-870e9a53-5ca2-4d06-bfde-33d65320db8d')\"\n",
              "            title=\"Convert this dataframe to an interactive table.\"\n",
              "            style=\"display:none;\">\n",
              "\n",
              "  <svg xmlns=\"http://www.w3.org/2000/svg\" height=\"24px\" viewBox=\"0 -960 960 960\">\n",
              "    <path d=\"M120-120v-720h720v720H120Zm60-500h600v-160H180v160Zm220 220h160v-160H400v160Zm0 220h160v-160H400v160ZM180-400h160v-160H180v160Zm440 0h160v-160H620v160ZM180-180h160v-160H180v160Zm440 0h160v-160H620v160Z\"/>\n",
              "  </svg>\n",
              "    </button>\n",
              "\n",
              "  <style>\n",
              "    .colab-df-container {\n",
              "      display:flex;\n",
              "      gap: 12px;\n",
              "    }\n",
              "\n",
              "    .colab-df-convert {\n",
              "      background-color: #E8F0FE;\n",
              "      border: none;\n",
              "      border-radius: 50%;\n",
              "      cursor: pointer;\n",
              "      display: none;\n",
              "      fill: #1967D2;\n",
              "      height: 32px;\n",
              "      padding: 0 0 0 0;\n",
              "      width: 32px;\n",
              "    }\n",
              "\n",
              "    .colab-df-convert:hover {\n",
              "      background-color: #E2EBFA;\n",
              "      box-shadow: 0px 1px 2px rgba(60, 64, 67, 0.3), 0px 1px 3px 1px rgba(60, 64, 67, 0.15);\n",
              "      fill: #174EA6;\n",
              "    }\n",
              "\n",
              "    .colab-df-buttons div {\n",
              "      margin-bottom: 4px;\n",
              "    }\n",
              "\n",
              "    [theme=dark] .colab-df-convert {\n",
              "      background-color: #3B4455;\n",
              "      fill: #D2E3FC;\n",
              "    }\n",
              "\n",
              "    [theme=dark] .colab-df-convert:hover {\n",
              "      background-color: #434B5C;\n",
              "      box-shadow: 0px 1px 3px 1px rgba(0, 0, 0, 0.15);\n",
              "      filter: drop-shadow(0px 1px 2px rgba(0, 0, 0, 0.3));\n",
              "      fill: #FFFFFF;\n",
              "    }\n",
              "  </style>\n",
              "\n",
              "    <script>\n",
              "      const buttonEl =\n",
              "        document.querySelector('#df-870e9a53-5ca2-4d06-bfde-33d65320db8d button.colab-df-convert');\n",
              "      buttonEl.style.display =\n",
              "        google.colab.kernel.accessAllowed ? 'block' : 'none';\n",
              "\n",
              "      async function convertToInteractive(key) {\n",
              "        const element = document.querySelector('#df-870e9a53-5ca2-4d06-bfde-33d65320db8d');\n",
              "        const dataTable =\n",
              "          await google.colab.kernel.invokeFunction('convertToInteractive',\n",
              "                                                    [key], {});\n",
              "        if (!dataTable) return;\n",
              "\n",
              "        const docLinkHtml = 'Like what you see? Visit the ' +\n",
              "          '<a target=\"_blank\" href=https://colab.research.google.com/notebooks/data_table.ipynb>data table notebook</a>'\n",
              "          + ' to learn more about interactive tables.';\n",
              "        element.innerHTML = '';\n",
              "        dataTable['output_type'] = 'display_data';\n",
              "        await google.colab.output.renderOutput(dataTable, element);\n",
              "        const docLink = document.createElement('div');\n",
              "        docLink.innerHTML = docLinkHtml;\n",
              "        element.appendChild(docLink);\n",
              "      }\n",
              "    </script>\n",
              "  </div>\n",
              "\n",
              "\n",
              "    <div id=\"df-bd007926-cc54-4263-9cb4-fe9153284134\">\n",
              "      <button class=\"colab-df-quickchart\" onclick=\"quickchart('df-bd007926-cc54-4263-9cb4-fe9153284134')\"\n",
              "                title=\"Suggest charts\"\n",
              "                style=\"display:none;\">\n",
              "\n",
              "<svg xmlns=\"http://www.w3.org/2000/svg\" height=\"24px\"viewBox=\"0 0 24 24\"\n",
              "     width=\"24px\">\n",
              "    <g>\n",
              "        <path d=\"M19 3H5c-1.1 0-2 .9-2 2v14c0 1.1.9 2 2 2h14c1.1 0 2-.9 2-2V5c0-1.1-.9-2-2-2zM9 17H7v-7h2v7zm4 0h-2V7h2v10zm4 0h-2v-4h2v4z\"/>\n",
              "    </g>\n",
              "</svg>\n",
              "      </button>\n",
              "\n",
              "<style>\n",
              "  .colab-df-quickchart {\n",
              "      --bg-color: #E8F0FE;\n",
              "      --fill-color: #1967D2;\n",
              "      --hover-bg-color: #E2EBFA;\n",
              "      --hover-fill-color: #174EA6;\n",
              "      --disabled-fill-color: #AAA;\n",
              "      --disabled-bg-color: #DDD;\n",
              "  }\n",
              "\n",
              "  [theme=dark] .colab-df-quickchart {\n",
              "      --bg-color: #3B4455;\n",
              "      --fill-color: #D2E3FC;\n",
              "      --hover-bg-color: #434B5C;\n",
              "      --hover-fill-color: #FFFFFF;\n",
              "      --disabled-bg-color: #3B4455;\n",
              "      --disabled-fill-color: #666;\n",
              "  }\n",
              "\n",
              "  .colab-df-quickchart {\n",
              "    background-color: var(--bg-color);\n",
              "    border: none;\n",
              "    border-radius: 50%;\n",
              "    cursor: pointer;\n",
              "    display: none;\n",
              "    fill: var(--fill-color);\n",
              "    height: 32px;\n",
              "    padding: 0;\n",
              "    width: 32px;\n",
              "  }\n",
              "\n",
              "  .colab-df-quickchart:hover {\n",
              "    background-color: var(--hover-bg-color);\n",
              "    box-shadow: 0 1px 2px rgba(60, 64, 67, 0.3), 0 1px 3px 1px rgba(60, 64, 67, 0.15);\n",
              "    fill: var(--button-hover-fill-color);\n",
              "  }\n",
              "\n",
              "  .colab-df-quickchart-complete:disabled,\n",
              "  .colab-df-quickchart-complete:disabled:hover {\n",
              "    background-color: var(--disabled-bg-color);\n",
              "    fill: var(--disabled-fill-color);\n",
              "    box-shadow: none;\n",
              "  }\n",
              "\n",
              "  .colab-df-spinner {\n",
              "    border: 2px solid var(--fill-color);\n",
              "    border-color: transparent;\n",
              "    border-bottom-color: var(--fill-color);\n",
              "    animation:\n",
              "      spin 1s steps(1) infinite;\n",
              "  }\n",
              "\n",
              "  @keyframes spin {\n",
              "    0% {\n",
              "      border-color: transparent;\n",
              "      border-bottom-color: var(--fill-color);\n",
              "      border-left-color: var(--fill-color);\n",
              "    }\n",
              "    20% {\n",
              "      border-color: transparent;\n",
              "      border-left-color: var(--fill-color);\n",
              "      border-top-color: var(--fill-color);\n",
              "    }\n",
              "    30% {\n",
              "      border-color: transparent;\n",
              "      border-left-color: var(--fill-color);\n",
              "      border-top-color: var(--fill-color);\n",
              "      border-right-color: var(--fill-color);\n",
              "    }\n",
              "    40% {\n",
              "      border-color: transparent;\n",
              "      border-right-color: var(--fill-color);\n",
              "      border-top-color: var(--fill-color);\n",
              "    }\n",
              "    60% {\n",
              "      border-color: transparent;\n",
              "      border-right-color: var(--fill-color);\n",
              "    }\n",
              "    80% {\n",
              "      border-color: transparent;\n",
              "      border-right-color: var(--fill-color);\n",
              "      border-bottom-color: var(--fill-color);\n",
              "    }\n",
              "    90% {\n",
              "      border-color: transparent;\n",
              "      border-bottom-color: var(--fill-color);\n",
              "    }\n",
              "  }\n",
              "</style>\n",
              "\n",
              "      <script>\n",
              "        async function quickchart(key) {\n",
              "          const quickchartButtonEl =\n",
              "            document.querySelector('#' + key + ' button');\n",
              "          quickchartButtonEl.disabled = true;  // To prevent multiple clicks.\n",
              "          quickchartButtonEl.classList.add('colab-df-spinner');\n",
              "          try {\n",
              "            const charts = await google.colab.kernel.invokeFunction(\n",
              "                'suggestCharts', [key], {});\n",
              "          } catch (error) {\n",
              "            console.error('Error during call to suggestCharts:', error);\n",
              "          }\n",
              "          quickchartButtonEl.classList.remove('colab-df-spinner');\n",
              "          quickchartButtonEl.classList.add('colab-df-quickchart-complete');\n",
              "        }\n",
              "        (() => {\n",
              "          let quickchartButtonEl =\n",
              "            document.querySelector('#df-bd007926-cc54-4263-9cb4-fe9153284134 button');\n",
              "          quickchartButtonEl.style.display =\n",
              "            google.colab.kernel.accessAllowed ? 'block' : 'none';\n",
              "        })();\n",
              "      </script>\n",
              "    </div>\n",
              "\n",
              "    </div>\n",
              "  </div>\n"
            ],
            "application/vnd.google.colaboratory.intrinsic+json": {
              "type": "dataframe",
              "variable_name": "df"
            }
          },
          "metadata": {},
          "execution_count": 4
        }
      ],
      "source": [
        "# Combine dataset and drop all cols except combined text and label\n",
        "df7.rename(columns={\"text_combined\": \"text\"}, inplace=True)\n",
        "\n",
        "processedframes = []\n",
        "for df in [df1, df2, df3, df4, df5, df6]:\n",
        "  df[\"text\"] = df[\"subject\"].fillna(\"\") + \" \" + df[\"body\"].fillna(\" \")\n",
        "  df = df[[\"text\", \"label\"]]\n",
        "  processedframes.append(df)\n",
        "processedframes.append(df7)\n",
        "df = pd.concat(processedframes, ignore_index=True)\n",
        "\n",
        "# Process Data\n",
        "df.dropna(inplace=True)\n",
        "df.drop_duplicates(inplace=True)\n",
        "df.reset_index(drop=True, inplace=True)\n",
        "\n",
        "print(df.shape)\n",
        "df.head()"
      ]
    },
    {
      "cell_type": "code",
      "execution_count": 5,
      "metadata": {
        "id": "fA25TgzLIHeH"
      },
      "outputs": [],
      "source": [
        "# Process Text\n",
        "def process_text(text):\n",
        "  text = text.lower()\n",
        "  text = \" \".join([word for word in text.split() if word not in ENGLISH_STOP_WORDS]) # Should remove both doubled up whitespace AND stop words\n",
        "  return text\n",
        "df[\"text\"] = df[\"text\"].apply(process_text)"
      ]
    },
    {
      "cell_type": "markdown",
      "metadata": {
        "id": "Ik_psS-DMj4l"
      },
      "source": [
        "# Vectorisation and Train Test Splitting"
      ]
    },
    {
      "cell_type": "code",
      "execution_count": 6,
      "metadata": {
        "id": "QSXOrsszMnOB"
      },
      "outputs": [],
      "source": [
        "vectoriser = TfidfVectorizer(max_features = 5000) # Feature number limited to 5000 for performance reasons\n",
        "X_vect = vectoriser.fit_transform(df[\"text\"])\n",
        "y_vect = df[\"label\"].values\n",
        "X_train_vect, X_test_vect, y_train_vect, y_test_vect = train_test_split(X_vect, y_vect, test_size = 0.2, random_state = 42, stratify = y_vect)"
      ]
    },
    {
      "cell_type": "markdown",
      "metadata": {
        "id": "3eNwX9crczHp"
      },
      "source": [
        "# Model Training (Vectorisation)"
      ]
    },
    {
      "cell_type": "code",
      "execution_count": 7,
      "metadata": {
        "id": "mWXgY2Utc003",
        "colab": {
          "base_uri": "https://localhost:8080/"
        },
        "outputId": "ec0b0957-5f0c-48e2-c041-4ec07f743dac"
      },
      "outputs": [
        {
          "output_type": "stream",
          "name": "stdout",
          "text": [
            "SVC with Vectorisation results\n",
            "              precision    recall  f1-score   support\n",
            "\n",
            "           0       0.99      0.99      0.99     15765\n",
            "           1       0.99      0.99      0.99     17146\n",
            "\n",
            "    accuracy                           0.99     32911\n",
            "   macro avg       0.99      0.99      0.99     32911\n",
            "weighted avg       0.99      0.99      0.99     32911\n",
            "\n",
            "[[15544   221]\n",
            " [  183 16963]]\n",
            "Cross-validation scores: [0.98778892 0.98675304 0.98634316 0.98680815 0.98816417]\n",
            "Mean cross-validation score: 0.9871714905836338\n"
          ]
        }
      ],
      "source": [
        "svc_model_vect = SVC(kernel = \"linear\")\n",
        "svc_model_vect.fit(X_train_vect, y_train_vect)\n",
        "svc_predictions_vect = svc_model_vect.predict(X_test_vect)\n",
        "\n",
        "print(\"SVC with Vectorisation results\")\n",
        "print(classification_report(y_test_vect, svc_predictions_vect))\n",
        "print(confusion_matrix(y_test_vect, svc_predictions_vect))\n",
        "svc_scores_vect = cross_val_score(svc_model_vect, X_train_vect, y_train_vect, cv=5, scoring=\"f1\")\n",
        "print(f\"Cross-validation scores: {svc_scores_vect}\")\n",
        "print(f\"Mean cross-validation score: {svc_scores_vect.mean()}\")"
      ]
    },
    {
      "cell_type": "markdown",
      "metadata": {
        "id": "uoUz-OLPjckA"
      },
      "source": [
        "# Bag of Words and Train test Splitting"
      ]
    },
    {
      "cell_type": "code",
      "execution_count": 8,
      "metadata": {
        "id": "8TLTCL5UjqLX"
      },
      "outputs": [],
      "source": [
        "bag_of_words = CountVectorizer(max_features = 5000)\n",
        "X_vect_bow = bag_of_words.fit_transform(df[\"text\"])\n",
        "y_vect_bow = df[\"label\"].values\n",
        "X_train_bow, X_test_bow, y_train_bow, y_test_bow = train_test_split(X_vect_bow, y_vect_bow, test_size = 0.2, random_state = 42, stratify = y_vect_bow)"
      ]
    },
    {
      "cell_type": "markdown",
      "metadata": {
        "id": "ZbvtoOksjN9u"
      },
      "source": [
        "# Model Training (Bag of Words)"
      ]
    },
    {
      "cell_type": "code",
      "execution_count": 9,
      "metadata": {
        "id": "saLUiw1fjQK3",
        "colab": {
          "base_uri": "https://localhost:8080/"
        },
        "outputId": "8a37e000-231a-48ec-b139-ddc064ca9818"
      },
      "outputs": [
        {
          "output_type": "stream",
          "name": "stdout",
          "text": [
            "SVC with Bag of Words results\n",
            "              precision    recall  f1-score   support\n",
            "\n",
            "           0       0.99      0.99      0.99     15765\n",
            "           1       0.99      0.99      0.99     17146\n",
            "\n",
            "    accuracy                           0.99     32911\n",
            "   macro avg       0.99      0.99      0.99     32911\n",
            "weighted avg       0.99      0.99      0.99     32911\n",
            "\n",
            "[[15563   202]\n",
            " [  114 17032]]\n",
            "Cross-validation scores: [0.98800436 0.98844729 0.98653406 0.9868732  0.9885492 ]\n",
            "Mean cross-validation score: 0.9876816238083336\n"
          ]
        }
      ],
      "source": [
        "svc_model_bow = SVC(kernel = \"linear\")\n",
        "svc_model_bow.fit(X_train_bow, y_train_bow)\n",
        "svc_predictions_bow = svc_model_bow.predict(X_test_bow)\n",
        "\n",
        "print(\"SVC with Bag of Words results\")\n",
        "print(classification_report(y_test_bow, svc_predictions_bow))\n",
        "print(confusion_matrix(y_test_bow, svc_predictions_bow))\n",
        "svc_scores_bow = cross_val_score(svc_model_bow, X_train_bow, y_train_bow, cv=5, scoring=\"f1\")\n",
        "print(f\"Cross-validation scores: {svc_scores_bow}\")\n",
        "print(f\"Mean cross-validation score: {svc_scores_bow.mean()}\")"
      ]
    },
    {
      "cell_type": "markdown",
      "source": [
        "# Save Models"
      ],
      "metadata": {
        "id": "6OjsxOCOeF7k"
      }
    },
    {
      "cell_type": "code",
      "source": [
        "from pickle import dump\n",
        "with open(\"svm_vect.pkl\", \"wb\") as f:\n",
        "  dump(svc_model_vect, f, protocol = 5)\n",
        "\n",
        "with open(\"svm_bow.pkl\", \"wb\") as f2:\n",
        "  dump(svc_model_bow, f2, protocol = 5)"
      ],
      "metadata": {
        "id": "iSpZlCIseFOY"
      },
      "execution_count": 10,
      "outputs": []
    }
  ],
  "metadata": {
    "colab": {
      "provenance": []
    },
    "kernelspec": {
      "display_name": "Python 3",
      "name": "python3"
    },
    "language_info": {
      "name": "python"
    }
  },
  "nbformat": 4,
  "nbformat_minor": 0
}