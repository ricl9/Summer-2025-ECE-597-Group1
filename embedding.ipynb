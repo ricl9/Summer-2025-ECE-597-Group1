{
 "cells": [
  {
   "cell_type": "code",
   "execution_count": 2,
   "id": "b903efe6",
   "metadata": {},
   "outputs": [
    {
     "name": "stdout",
     "output_type": "stream",
     "text": [
      "Collecting kagglehub\n",
      "  Downloading kagglehub-0.3.12-py3-none-any.whl.metadata (38 kB)\n",
      "Requirement already satisfied: packaging in c:\\users\\vvstdung89\\appdata\\roaming\\python\\python312\\site-packages (from kagglehub) (24.1)\n",
      "Requirement already satisfied: pyyaml in c:\\users\\vvstdung89\\anaconda3\\lib\\site-packages (from kagglehub) (6.0.1)\n",
      "Requirement already satisfied: requests in c:\\users\\vvstdung89\\anaconda3\\lib\\site-packages (from kagglehub) (2.32.2)\n",
      "Requirement already satisfied: tqdm in c:\\users\\vvstdung89\\anaconda3\\lib\\site-packages (from kagglehub) (4.66.4)\n",
      "Requirement already satisfied: charset-normalizer<4,>=2 in c:\\users\\vvstdung89\\anaconda3\\lib\\site-packages (from requests->kagglehub) (2.0.4)\n",
      "Requirement already satisfied: idna<4,>=2.5 in c:\\users\\vvstdung89\\anaconda3\\lib\\site-packages (from requests->kagglehub) (3.7)\n",
      "Requirement already satisfied: urllib3<3,>=1.21.1 in c:\\users\\vvstdung89\\anaconda3\\lib\\site-packages (from requests->kagglehub) (2.2.2)\n",
      "Requirement already satisfied: certifi>=2017.4.17 in c:\\users\\vvstdung89\\anaconda3\\lib\\site-packages (from requests->kagglehub) (2025.1.31)\n",
      "Requirement already satisfied: colorama in c:\\users\\vvstdung89\\appdata\\roaming\\python\\python312\\site-packages (from tqdm->kagglehub) (0.4.6)\n",
      "Downloading kagglehub-0.3.12-py3-none-any.whl (67 kB)\n",
      "   ---------------------------------------- 0.0/68.0 kB ? eta -:--:--\n",
      "   ------------------ --------------------- 30.7/68.0 kB 1.3 MB/s eta 0:00:01\n",
      "   ---------------------------------------- 68.0/68.0 kB 931.5 kB/s eta 0:00:00\n",
      "Installing collected packages: kagglehub\n",
      "Successfully installed kagglehub-0.3.12\n"
     ]
    }
   ],
   "source": [
    "!pip install kagglehub"
   ]
  },
  {
   "cell_type": "code",
   "execution_count": 2,
   "id": "68d2acaf",
   "metadata": {},
   "outputs": [
    {
     "name": "stdout",
     "output_type": "stream",
     "text": [
      "Data loaded successfully.\n",
      "Dataset shape before cleaning: (164972, 2)\n",
      "Dataset shape after cleaning: (164552, 2)\n",
      "Class distribution:\n"
     ]
    },
    {
     "data": {
      "image/png": "[encoded data removed]",
      "text/plain": [
       "<Figure size 600x400 with 1 Axes>"
      ]
     },
     "metadata": {},
     "output_type": "display_data"
    },
    {
     "data": {
      "text/html": [
       "<div>\n",
       "<style scoped>\n",
       "    .dataframe tbody tr th:only-of-type {\n",
       "        vertical-align: middle;\n",
       "    }\n",
       "\n",
       "    .dataframe tbody tr th {\n",
       "        vertical-align: top;\n",
       "    }\n",
       "\n",
       "    .dataframe thead th {\n",
       "        text-align: right;\n",
       "    }\n",
       "</style>\n",
       "<table border=\"1\" class=\"dataframe\">\n",
       "  <thead>\n",
       "    <tr style=\"text-align: right;\">\n",
       "      <th></th>\n",
       "      <th>text</th>\n",
       "      <th>label</th>\n",
       "    </tr>\n",
       "  </thead>\n",
       "  <tbody>\n",
       "    <tr>\n",
       "      <th>0</th>\n",
       "      <td>Never agree to be a loser Buck up, your troubl...</td>\n",
       "      <td>1</td>\n",
       "    </tr>\n",
       "    <tr>\n",
       "      <th>1</th>\n",
       "      <td>Befriend Jenna Jameson \\nUpgrade your sex and ...</td>\n",
       "      <td>1</td>\n",
       "    </tr>\n",
       "    <tr>\n",
       "      <th>2</th>\n",
       "      <td>CNN.com Daily Top 10 &gt;+=+=+=+=+=+=+=+=+=+=+=+=...</td>\n",
       "      <td>1</td>\n",
       "    </tr>\n",
       "    <tr>\n",
       "      <th>3</th>\n",
       "      <td>Re: svn commit: r619753 - in /spamassassin/tru...</td>\n",
       "      <td>0</td>\n",
       "    </tr>\n",
       "    <tr>\n",
       "      <th>4</th>\n",
       "      <td>SpecialPricesPharmMoreinfo \\nWelcomeFastShippi...</td>\n",
       "      <td>1</td>\n",
       "    </tr>\n",
       "  </tbody>\n",
       "</table>\n",
       "</div>"
      ],
      "text/plain": [
       "                                                text  label\n",
       "0  Never agree to be a loser Buck up, your troubl...      1\n",
       "1  Befriend Jenna Jameson \\nUpgrade your sex and ...      1\n",
       "2  CNN.com Daily Top 10 >+=+=+=+=+=+=+=+=+=+=+=+=...      1\n",
       "3  Re: svn commit: r619753 - in /spamassassin/tru...      0\n",
       "4  SpecialPricesPharmMoreinfo \\nWelcomeFastShippi...      1"
      ]
     },
     "execution_count": 2,
     "metadata": {},
     "output_type": "execute_result"
    }
   ],
   "source": [
    "import pandas as pd\n",
    "import numpy as np\n",
    "import kagglehub\n",
    "from sklearn.feature_extraction.text import ENGLISH_STOP_WORDS\n",
    "from sklearn.model_selection import train_test_split\n",
    "from sklearn.feature_extraction.text import TfidfVectorizer\n",
    "from sklearn.feature_extraction.text import CountVectorizer\n",
    "from sklearn.metrics import classification_report, confusion_matrix\n",
    "from  sklearn.model_selection import cross_val_score\n",
    "from sklearn.svm import SVC\n",
    "\n",
    "# Download Dataset\n",
    "path = kagglehub.dataset_download(\"naserabdullahalam/phishing-email-dataset\")\n",
    "# Load the dataset\n",
    "df1 = pd.read_csv(path + \"/CEAS_08.csv\")\n",
    "df2 = pd.read_csv(path + \"/Nazario.csv\")\n",
    "df3 = pd.read_csv(path + \"/Nigerian_Fraud.csv\")\n",
    "df4 = pd.read_csv(path + \"/SpamAssasin.csv\")\n",
    "df5 = pd.read_csv(path + \"/Enron.csv\")\n",
    "df6 = pd.read_csv(path + \"/Ling.csv\")\n",
    "df7 = pd.read_csv(path + \"/phishing_email.csv\")\n",
    "print(\"Data loaded successfully.\")\n",
    "\n",
    "# Reformat the datasets to have consistent columns and combine them\n",
    "df_group1 = pd.concat([df1, df2, df3, df4], ignore_index=True)\n",
    "df_group1['text'] = df_group1['subject'].fillna('') + ' ' + df_group1['body'].fillna('')\n",
    "df_group1 = df_group1[['text', 'label']]\n",
    "# Display the first few rows of the combined DataFrame\n",
    "\n",
    "\n",
    "\n",
    "# Rename columns for consistency\n",
    "for df_temp in [df5, df6]:\n",
    "    df_temp['text'] = df_temp['subject'].fillna('') + ' ' + df_temp['body'].fillna('')\n",
    "df5 = df5[['text', 'label']]\n",
    "df6 = df6[['text', 'label']]\n",
    "\n",
    "df7.rename(columns={'text_combined': 'text'}, inplace=True)\n",
    "\n",
    "df = pd.concat([df_group1, df5, df6, df7], ignore_index=True)\n",
    "df.head()\n",
    "print(f\"Dataset shape before cleaning: {df.shape}\")\n",
    "\n",
    "import seaborn as sns\n",
    "import matplotlib.pyplot as plt\n",
    "from sklearn.model_selection import train_test_split\n",
    "from sklearn.feature_extraction.text import TfidfVectorizer\n",
    "\n",
    "df.dropna(inplace=True)\n",
    "\n",
    "# remove duplicate rows\n",
    "df.drop_duplicates(inplace=True)\n",
    "\n",
    "# reset index after dropping rows\n",
    "df.reset_index(drop=True, inplace=True)\n",
    "\n",
    "print(f\"Dataset shape after cleaning: {df.shape}\")\n",
    "# Visualize the class distribution\n",
    "print(\"Class distribution:\")\n",
    "\n",
    "plt.figure(figsize=(6,4))\n",
    "sns.countplot(x='label', data=df)\n",
    "plt.title('Class Distribution')\n",
    "plt.xticks([0,1], ['Legitimate', 'Phishing'])\n",
    "plt.xlabel('Email Type')\n",
    "plt.ylabel('Count')\n",
    "plt.show()\n",
    "\n",
    "df.head()"
   ]
  },
  {
   "cell_type": "code",
   "execution_count": 2,
   "id": "d6e3c905",
   "metadata": {},
   "outputs": [
    {
     "name": "stdout",
     "output_type": "stream",
     "text": [
      "Text preprocessing completed.\n"
     ]
    }
   ],
   "source": [
    "import re\n",
    "from sklearn.feature_extraction.text import ENGLISH_STOP_WORDS\n",
    "\n",
    "def preprocess_text(text):\n",
    "    # Convert to lowercase\n",
    "    text = text.lower()\n",
    "\n",
    "    # Remove HTML tags\n",
    "    text = re.sub(r'<.*?>', '', text)\n",
    "\n",
    "    # Remove URLs\n",
    "    # text = re.sub(r'http\\S+|www\\S+|https\\S+', '', text, flags=re.MULTILINE)\n",
    "\n",
    "    # Remove special characters and numbers\n",
    "    text = re.sub(r'[^a-z\\s]', '', text)\n",
    "\n",
    "    # Remove extra whitespace\n",
    "    text = re.sub(r'\\s+', ' ', text).strip()\n",
    "\n",
    "    # Remove stop words\n",
    "    text = ' '.join([word for word in text.split() if word not in ENGLISH_STOP_WORDS])\n",
    "\n",
    "    return text\n",
    "\n",
    "df['text'] = df['text'].apply(preprocess_text)\n",
    "print(\"Text preprocessing completed.\")"
   ]
  },
  {
   "cell_type": "code",
   "execution_count": 87,
   "id": "f70de1b1",
   "metadata": {},
   "outputs": [
    {
     "name": "stdout",
     "output_type": "stream",
     "text": [
      "Encoded CSV files not found. Encoding text...\n",
      "Encoding training data...\n",
      "Sampled 100 samples for encoding\n"
     ]
    },
    {
     "name": "stderr",
     "output_type": "stream",
     "text": [
      "100%|██████████| 100/100 [00:02<00:00, 33.75it/s]\n"
     ]
    }
   ],
   "source": [
    "# !pip install sentence-transformers\n",
    "from sentence_transformers import SentenceTransformer\n",
    "model = SentenceTransformer('all-MiniLM-L6-v2')\n",
    "# Encode the text\n",
    "from tqdm import tqdm\n",
    "tqdm.pandas()\n",
    "\n",
    "print(\"Encoded CSV files not found. Encoding text...\")\n",
    "# Encode the text\n",
    "print(\"Encoding training data...\")\n",
    "# Sample only 100 samples for faster processing\n",
    "df = df.sample(n=100, random_state=42).reset_index(drop=True)\n",
    "print(f\"Sampled {len(df)} samples for encoding\")\n",
    "\n",
    "df['text_embed'] = df['text'].progress_apply(lambda x: model.encode(x))\n"
   ]
  },
  {
   "cell_type": "code",
   "execution_count": 3,
   "id": "1c55711e",
   "metadata": {},
   "outputs": [
    {
     "name": "stdout",
     "output_type": "stream",
     "text": [
      "Loaded existing processed data from 'processed_data.csv'\n",
      "Training set shape: (131641,), Testing set shape: (32911,)\n"
     ]
    }
   ],
   "source": [
    "# Load processed data if it exists, otherwise save current dataframe\n",
    "import os\n",
    "if os.path.exists('processed_data.csv'):\n",
    "    df = pd.read_csv('processed_data.csv')\n",
    "    df['text_embed'] = df['text_embed'].apply(lambda x: np.fromstring(x.strip('[]'), sep=' '))\n",
    "    print(\"Loaded existing processed data from 'processed_data.csv'\")\n",
    "else:\n",
    "    df.to_csv('processed_data.csv', index=False)\n",
    "    print(\"DataFrame saved to 'processed_data.csv'\")\n",
    "\n",
    "X = df['text_embed'].values\n",
    "y = df['label'].values\n",
    "\n",
    "X_train, X_test, y_train, y_test = train_test_split(X, y, test_size=0.2, random_state=42, stratify=y)\n",
    "print(f\"Training set shape: {X_train.shape}, Testing set shape: {X_test.shape}\")"
   ]
  },
  {
   "cell_type": "code",
   "execution_count": 89,
   "id": "05d7d892",
   "metadata": {},
   "outputs": [
    {
     "name": "stdout",
     "output_type": "stream",
     "text": [
      "Performing Grid Search with Bag of Words approach...\n",
      "Fitting 5 folds for each of 6 candidates, totalling 30 fits\n",
      "\n",
      "Results as DataFrame:\n",
      "   mean_fit_time  std_fit_time  mean_score_time  std_score_time  \\\n",
      "0       0.020877      0.001167         0.003944        0.000847   \n",
      "1       0.018871      0.002118         0.003520        0.000000   \n",
      "2       0.020471      0.002090         0.003721        0.000399   \n",
      "3       0.006646      0.005557         0.002036        0.000810   \n",
      "4       0.003205      0.000685         0.001991        0.000299   \n",
      "5       0.003408      0.000587         0.001605        0.000587   \n",
      "\n",
      "  param_classifier__C param_classifier__max_iter param_classifier__penalty  \\\n",
      "0                  10                        500                        l2   \n",
      "1                  10                       1000                        l2   \n",
      "2                  50                        500                        l2   \n",
      "3                  50                       1000                        l2   \n",
      "4                 100                        500                        l2   \n",
      "5                 100                       1000                        l2   \n",
      "\n",
      "                                              params  split0_test_score  \\\n",
      "0  {'classifier__C': 10, 'classifier__max_iter': ...           0.888889   \n",
      "1  {'classifier__C': 10, 'classifier__max_iter': ...           0.888889   \n",
      "2  {'classifier__C': 50, 'classifier__max_iter': ...           0.941176   \n",
      "3  {'classifier__C': 50, 'classifier__max_iter': ...           0.941176   \n",
      "4  {'classifier__C': 100, 'classifier__max_iter':...           0.941176   \n",
      "5  {'classifier__C': 100, 'classifier__max_iter':...           0.941176   \n",
      "\n",
      "   split1_test_score  split2_test_score  split3_test_score  split4_test_score  \\\n",
      "0           0.933333                1.0           0.705882           0.705882   \n",
      "1           0.933333                1.0           0.705882           0.705882   \n",
      "2           0.857143                1.0           0.705882           0.705882   \n",
      "3           0.857143                1.0           0.705882           0.705882   \n",
      "4           0.857143                1.0           0.705882           0.705882   \n",
      "5           0.857143                1.0           0.705882           0.705882   \n",
      "\n",
      "   mean_test_score  std_test_score  rank_test_score  \n",
      "0         0.846797        0.120371                1  \n",
      "1         0.846797        0.120371                1  \n",
      "2         0.842017        0.120071                3  \n",
      "3         0.842017        0.120071                3  \n",
      "4         0.842017        0.120071                3  \n",
      "5         0.842017        0.120071                3  \n",
      "{'classifier__C': 10, 'classifier__max_iter': 500, 'classifier__penalty': 'l2'}\n",
      "\n",
      "Bag of Words Classification Report:\n",
      "              precision    recall  f1-score   support\n",
      "\n",
      "           0     0.8750    0.7000    0.7778        10\n",
      "           1     0.7500    0.9000    0.8182        10\n",
      "\n",
      "    accuracy                         0.8000        20\n",
      "   macro avg     0.8125    0.8000    0.7980        20\n",
      "weighted avg     0.8125    0.8000    0.7980        20\n",
      "\n"
     ]
    },
    {
     "data": {
      "image/png": "[encoded data removed]",
      "text/plain": [
       "<Figure size 800x600 with 2 Axes>"
      ]
     },
     "metadata": {},
     "output_type": "display_data"
    },
    {
     "name": "stdout",
     "output_type": "stream",
     "text": [
      "\n",
      "AUC Score: 0.9200\n"
     ]
    }
   ],
   "source": [
    "# Using bag of words approach\n",
    "from sklearn.linear_model import LogisticRegression\n",
    "from sklearn.feature_extraction.text import CountVectorizer\n",
    "from sklearn.naive_bayes import MultinomialNB\n",
    "from sklearn.pipeline import Pipeline\n",
    "from sklearn.model_selection import train_test_split, GridSearchCV\n",
    "from sklearn.metrics import accuracy_score, classification_report, confusion_matrix\n",
    "import matplotlib.pyplot as plt\n",
    "import seaborn as sns\n",
    "# Create a pipeline with CountVectorizer (Bag of Words) and Naive Bayes\n",
    "bow_pipeline = Pipeline([\n",
    "    ('classifier', LogisticRegression())\n",
    "])\n",
    "\n",
    "# Define parameter grid for Bag of Words approach\n",
    "bow_param_grid = {\n",
    "    'classifier__max_iter':[500, 1000],\n",
    "    'classifier__C': [10, 50,100],\n",
    "    'classifier__penalty': ['l2'],\n",
    "}\n",
    "\n",
    "# Perform Grid Search with 5-fold cross-validation for Bag of Words\n",
    "bow_grid_search = GridSearchCV(\n",
    "    bow_pipeline,\n",
    "    bow_param_grid,\n",
    "    cv=5,\n",
    "    scoring='f1',\n",
    "    n_jobs=-1,\n",
    "    verbose=2\n",
    ")\n",
    "train_data = np.array(X_train).tolist()\n",
    "test_data = np.array(X_test).tolist()\n",
    "\n",
    "# Fit the grid search\n",
    "print(\"Performing Grid Search with Bag of Words approach...\")\n",
    "bow_grid_search.fit(train_data, y_train)\n",
    "\n",
    "import pandas as pd\n",
    "results_df = pd.DataFrame(bow_grid_search.cv_results_)\n",
    "print(\"\\nResults as DataFrame:\")\n",
    "print(results_df)\n",
    "print(bow_grid_search.best_params_)\n",
    "\n",
    "# Get the best model\n",
    "best_bow_model = bow_grid_search.best_estimator_\n",
    "\n",
    "# Make predictions on test set\n",
    "y_pred_bow = best_bow_model.predict(test_data)\n",
    "\n",
    "# Print detailed classification report\n",
    "print(\"\\nBag of Words Classification Report:\")\n",
    "print(classification_report(y_test, y_pred_bow, digits=4))\n",
    "\n",
    "# Create confusion matrix for Bag of Words\n",
    "plt.figure(figsize=(8, 6))\n",
    "cm_bow = confusion_matrix(y_test, y_pred_bow)\n",
    "sns.heatmap(cm_bow, annot=True, fmt='d', cmap='Greens',\n",
    "            xticklabels=['Not Phishing', 'Phishing'],\n",
    "            yticklabels=['Not Phishing', 'Phishing'])\n",
    "plt.title('Confusion Matrix - Bag of Words + Naive Bayes')\n",
    "plt.xlabel('Predicted')\n",
    "plt.ylabel('Actual')\n",
    "plt.show()\n",
    "# Calculate AUC score\n",
    "from sklearn.metrics import roc_auc_score\n",
    "\n",
    "# Get prediction probabilities for AUC calculation\n",
    "y_pred_proba_bow = best_bow_model.predict_proba(test_data)[:, 1]\n",
    "\n",
    "# Calculate AUC score\n",
    "auc_score = roc_auc_score(y_test, y_pred_proba_bow)\n",
    "print(f\"\\nAUC Score: {auc_score:.4f}\")"
   ]
  },
  {
   "cell_type": "code",
   "execution_count": null,
   "id": "024b6a24",
   "metadata": {},
   "outputs": [],
   "source": [
    "# SVM with Grid Search\n",
    "from sklearn.svm import SVC\n",
    "from sklearn.pipeline import Pipeline\n",
    "\n",
    "print(\"\\n\" + \"=\"*50)\n",
    "print(\"SUPPORT VECTOR MACHINE (SVM) APPROACH\")\n",
    "print(\"=\"*50)\n",
    "\n",
    "svm = SVC(kernel='rbf', probability=True, random_state=42)\n",
    "# Fit the grid search\n",
    "print(\"Performing Grid Search with SVM approach...\")\n",
    "train_data = np.array(X_train).tolist()\n",
    "test_data = np.array(X_test).tolist()\n",
    "svm.fit(train_data, y_train)\n",
    "\n"
   ]
  },
  {
   "cell_type": "code",
   "execution_count": null,
   "id": "ff0488ad",
   "metadata": {},
   "outputs": [],
   "source": []
  },
  {
   "cell_type": "code",
   "execution_count": null,
   "id": "2138aaaf",
   "metadata": {},
   "outputs": [],
   "source": [
    "\n",
    "# Make predictions on test set\n",
    "y_pred_svm = svm.predict(test_data)"
   ]
  },
  {
   "cell_type": "code",
   "execution_count": 6,
   "id": "3e17a5ed",
   "metadata": {},
   "outputs": [
    {
     "name": "stdout",
     "output_type": "stream",
     "text": [
      "\n",
      "SVM Classification Report:\n",
      "              precision    recall  f1-score   support\n",
      "\n",
      "           0     0.9914    0.9907    0.9911     15765\n",
      "           1     0.9914    0.9921    0.9918     17146\n",
      "\n",
      "    accuracy                         0.9914     32911\n",
      "   macro avg     0.9914    0.9914    0.9914     32911\n",
      "weighted avg     0.9914    0.9914    0.9914     32911\n",
      "\n"
     ]
    },
    {
     "data": {
      "image/png": "[encoded data removed]",
      "text/plain": [
       "<Figure size 800x600 with 2 Axes>"
      ]
     },
     "metadata": {},
     "output_type": "display_data"
    },
    {
     "name": "stdout",
     "output_type": "stream",
     "text": [
      "\n",
      "SVM AUC Score: 0.9994\n"
     ]
    }
   ],
   "source": [
    "\n",
    "# Print detailed classification report\n",
    "print(\"\\nSVM Classification Report:\")\n",
    "print(classification_report(y_test, y_pred_svm, digits=4))\n",
    "\n",
    "# Create confusion matrix for SVM\n",
    "plt.figure(figsize=(8, 6))\n",
    "cm_svm = confusion_matrix(y_test, y_pred_svm)\n",
    "sns.heatmap(cm_svm, annot=True, fmt='d', cmap='Blues',\n",
    "            xticklabels=['Not Phishing', 'Phishing'],\n",
    "            yticklabels=['Not Phishing', 'Phishing'])\n",
    "plt.title('Confusion Matrix - SVM')\n",
    "plt.xlabel('Predicted')\n",
    "plt.ylabel('Actual')\n",
    "plt.show()\n",
    "\n",
    "from sklearn.metrics import roc_auc_score\n",
    "# Calculate AUC score for SVM\n",
    "y_pred_proba_svm = svm.predict_proba(test_data)[:, 1]\n",
    "auc_score_svm = roc_auc_score(y_test, y_pred_proba_svm)\n",
    "print(f\"\\nSVM AUC Score: {auc_score_svm:.4f}\")"
   ]
  },
  {
   "cell_type": "code",
   "execution_count": 8,
   "id": "769626f6",
   "metadata": {},
   "outputs": [],
   "source": [
    "\n",
    "from pickle import dump\n",
    "with open(\"svm_embedding.pkl\", \"wb\") as f2:\n",
    "  dump(svm, f2, protocol = 5)"
   ]
  }
 ],
 "metadata": {
  "kernelspec": {
   "display_name": "base",
   "language": "python",
   "name": "python3"
  },
  "language_info": {
   "codemirror_mode": {
    "name": "ipython",
    "version": 3
   },
   "file_extension": ".py",
   "mimetype": "text/x-python",
   "name": "python",
   "nbconvert_exporter": "python",
   "pygments_lexer": "ipython3",
   "version": "3.12.4"
  }
 },
 "nbformat": 4,
 "nbformat_minor": 5
}
